{
 "cells": [
  {
   "cell_type": "markdown",
   "metadata": {},
   "source": [
    "# Main System Check"
   ]
  },
  {
   "cell_type": "markdown",
   "metadata": {},
   "source": [
    "This notebook checks the proposed structure in *One-to-many Conversion for Percussive Samples*."
   ]
  },
  {
   "cell_type": "code",
   "execution_count": 8,
   "metadata": {},
   "outputs": [],
   "source": [
    "from numbers import Real\n",
    "from shelving import Class_IIR_Shelving\n",
    "from velvetnoise import velvet_noise\n",
    "from utils import *\n",
    "from pipeline import pipeline\n",
    "import numpy as np\n",
    "import numpy.typing as npt\n",
    "import scipy.signal as signal\n",
    "import scipy.io as sio\n",
    "# import scipy.io.wavfile\n",
    "\n",
    "import IPython\n",
    "\n",
    "import matplotlib.pyplot as plt\n",
    "\n",
    "# import librosa\n",
    "# import librosa.display"
   ]
  },
  {
   "cell_type": "markdown",
   "metadata": {},
   "source": [
    "## Read Samples"
   ]
  },
  {
   "cell_type": "code",
   "execution_count": 9,
   "metadata": {},
   "outputs": [
    {
     "ename": "AttributeError",
     "evalue": "module 'scipy.io' has no attribute 'wavfile'",
     "output_type": "error",
     "traceback": [
      "\u001b[0;31m---------------------------------------------------------------------------\u001b[0m",
      "\u001b[0;31mAttributeError\u001b[0m                            Traceback (most recent call last)",
      "\u001b[0;32m/tmp/ipykernel_16987/1540124930.py\u001b[0m in \u001b[0;36m<module>\u001b[0;34m\u001b[0m\n\u001b[1;32m      1\u001b[0m \u001b[0mpiano_file\u001b[0m \u001b[0;34m=\u001b[0m \u001b[0;34m'./audio/piano_mute.wav'\u001b[0m\u001b[0;34m\u001b[0m\u001b[0;34m\u001b[0m\u001b[0m\n\u001b[0;32m----> 2\u001b[0;31m \u001b[0mpiano_sr\u001b[0m\u001b[0;34m,\u001b[0m \u001b[0mpiano_data\u001b[0m \u001b[0;34m=\u001b[0m \u001b[0msio\u001b[0m\u001b[0;34m.\u001b[0m\u001b[0mwavfile\u001b[0m\u001b[0;34m.\u001b[0m\u001b[0mread\u001b[0m\u001b[0;34m(\u001b[0m\u001b[0mpiano_file\u001b[0m\u001b[0;34m)\u001b[0m\u001b[0;34m\u001b[0m\u001b[0;34m\u001b[0m\u001b[0m\n\u001b[0m\u001b[1;32m      3\u001b[0m \u001b[0mpiano_data\u001b[0m \u001b[0;34m=\u001b[0m \u001b[0mpiano_data\u001b[0m\u001b[0;34m.\u001b[0m\u001b[0mT\u001b[0m\u001b[0;34m\u001b[0m\u001b[0;34m\u001b[0m\u001b[0m\n\u001b[1;32m      4\u001b[0m \u001b[0;34m\u001b[0m\u001b[0m\n\u001b[1;32m      5\u001b[0m \u001b[0mprint_audio_info\u001b[0m\u001b[0;34m(\u001b[0m\u001b[0;34m'Piano mute'\u001b[0m\u001b[0;34m,\u001b[0m \u001b[0mpiano_data\u001b[0m\u001b[0;34m,\u001b[0m \u001b[0mpiano_sr\u001b[0m\u001b[0;34m)\u001b[0m\u001b[0;34m\u001b[0m\u001b[0;34m\u001b[0m\u001b[0m\n",
      "\u001b[0;31mAttributeError\u001b[0m: module 'scipy.io' has no attribute 'wavfile'"
     ]
    }
   ],
   "source": [
    "piano_file = './audio/piano_mute.wav'\n",
    "piano_sr, piano_data = sio.wavfile.read(piano_file)\n",
    "piano_data = piano_data.T\n",
    "\n",
    "print_audio_info('Piano mute', piano_data, piano_sr)"
   ]
  },
  {
   "cell_type": "code",
   "execution_count": 3,
   "metadata": {},
   "outputs": [
    {
     "name": "stdout",
     "output_type": "stream",
     "text": [
      "Hihat sample. Sample rate 44100. Data type int16. Has 2 channels. Has 14705 samples.\n"
     ]
    }
   ],
   "source": [
    "hihat_file = './audio/hihat.wav'\n",
    "hihat_sr, hihat_data = sio.wavfile.read(hihat_file)\n",
    "hihat_data = hihat_data.T\n",
    "print_audio_info('Hihat', hihat_data, hihat_sr)"
   ]
  },
  {
   "cell_type": "code",
   "execution_count": 4,
   "metadata": {},
   "outputs": [
    {
     "name": "stdout",
     "output_type": "stream",
     "text": [
      "Snare sample, sample rate 44100, data type int16\n"
     ]
    }
   ],
   "source": [
    "snare_file = './audio/snare.wav'\n",
    "snare_sr, snare_data = sio.wavfile.read(snare_file)\n",
    "snare_data = snare_data.T\n",
    "print(f'Snare sample, sample rate {snare_sr}, data type {snare_data.dtype}')"
   ]
  },
  {
   "cell_type": "markdown",
   "metadata": {},
   "source": [
    "## Apply Effects to Audio"
   ]
  },
  {
   "cell_type": "code",
   "execution_count": 5,
   "metadata": {},
   "outputs": [],
   "source": [
    "out = pipeline(hihat_data, hihat_sr, fc=300, G=-20.0, Q=5.0, Ls=10, M=20, LdB=-10, gain=0.2)\n"
   ]
  },
  {
   "cell_type": "code",
   "execution_count": 7,
   "metadata": {},
   "outputs": [
    {
     "data": {
      "text/plain": [
       "(dtype('int16'), (2, 14705))"
      ]
     },
     "execution_count": 7,
     "metadata": {},
     "output_type": "execute_result"
    }
   ],
   "source": [
    "out.dtype, out.shape"
   ]
  },
  {
   "cell_type": "code",
   "execution_count": null,
   "metadata": {},
   "outputs": [],
   "source": []
  }
 ],
 "metadata": {
  "interpreter": {
   "hash": "8f751e000230359d28d594086912b72738492fedbee5143683c41a4215279eeb"
  },
  "kernelspec": {
   "display_name": "Python 3 (ipykernel)",
   "language": "python",
   "name": "python3"
  },
  "language_info": {
   "codemirror_mode": {
    "name": "ipython",
    "version": 3
   },
   "file_extension": ".py",
   "mimetype": "text/x-python",
   "name": "python",
   "nbconvert_exporter": "python",
   "pygments_lexer": "ipython3",
   "version": "3.7.12"
  }
 },
 "nbformat": 4,
 "nbformat_minor": 4
}
